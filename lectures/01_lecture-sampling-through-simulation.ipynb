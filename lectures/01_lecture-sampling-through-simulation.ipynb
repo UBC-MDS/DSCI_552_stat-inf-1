{
 "cells": [
  {
   "cell_type": "markdown",
   "metadata": {
    "slideshow": {
     "slide_type": "slide"
    }
   },
   "source": [
    "# DSCI 552: Statistical Inference and Computation I\n",
    "\n",
    "## Lecture 1 - Understanding sampling through simulation\n",
    "\n",
    "### 2018-10-11"
   ]
  },
  {
   "cell_type": "markdown",
   "metadata": {
    "slideshow": {
     "slide_type": "slide"
    }
   },
   "source": [
    "# High-level goals of this course:"
   ]
  },
  {
   "cell_type": "markdown",
   "metadata": {
    "slideshow": {
     "slide_type": "fragment"
    }
   },
   "source": [
    "- Build a solid foundational understanding of statistical inference "
   ]
  },
  {
   "cell_type": "markdown",
   "metadata": {
    "slideshow": {
     "slide_type": "fragment"
    }
   },
   "source": [
    "- Become competent using R to perform computation for statistical inference"
   ]
  },
  {
   "cell_type": "markdown",
   "metadata": {
    "slideshow": {
     "slide_type": "slide"
    }
   },
   "source": [
    "# What is statistical inference?"
   ]
  },
  {
   "cell_type": "markdown",
   "metadata": {
    "slideshow": {
     "slide_type": "fragment"
    }
   },
   "source": [
    "- Statistical inference is the process of using sample data to make conclusions about the underlying population the sample came from"
   ]
  },
  {
   "cell_type": "markdown",
   "metadata": {
    "slideshow": {
     "slide_type": "fragment"
    }
   },
   "source": [
    "- Types of inference: estimation and testing"
   ]
  },
  {
   "cell_type": "markdown",
   "metadata": {
    "slideshow": {
     "slide_type": "slide"
    }
   },
   "source": [
    "# Things we can do with inference"
   ]
  },
  {
   "cell_type": "markdown",
   "metadata": {
    "slideshow": {
     "slide_type": "slide"
    }
   },
   "source": [
    "## 1. Make a statement such as this:\n",
    "\n",
    "47.2% of Americans think that firearms should have strong regulations or restrictions when thinking about gun ownership rights and gun laws.\n",
    "\n",
    "source: http://polling.reuters.com/#!response/PV20/type/smallest/dates/20180505-20181002/collapsed/true"
   ]
  },
  {
   "cell_type": "markdown",
   "metadata": {
    "slideshow": {
     "slide_type": "fragment"
    }
   },
   "source": [
    "### This is estimation!"
   ]
  },
  {
   "cell_type": "markdown",
   "metadata": {
    "slideshow": {
     "slide_type": "slide"
    }
   },
   "source": [
    "## 2. Answer a marketing question such as this:\n",
    "\n",
    "What proportion of undergraduate students have an iphone?\n",
    "\n",
    "<img img align=\"left\" src=\"https://media.wired.com/photos/5b22c5c4b878a15e9ce80d92/master/w_582,c_limit/iphonex-TA.jpg\" width=\"500\"/>"
   ]
  },
  {
   "cell_type": "markdown",
   "metadata": {
    "slideshow": {
     "slide_type": "notes"
    }
   },
   "source": [
    "source: https://media.wired.com/photos/5b22c5c4b878a15e9ce80d92/master/w_582,c_limit/iphonex-TA.jpg"
   ]
  },
  {
   "cell_type": "markdown",
   "metadata": {
    "slideshow": {
     "slide_type": "fragment"
    }
   },
   "source": [
    "### This can be answered with estimation!"
   ]
  },
  {
   "cell_type": "markdown",
   "metadata": {
    "slideshow": {
     "slide_type": "slide"
    }
   },
   "source": [
    "## 3. or a health question such as this:\n",
    "\n",
    "Are first babies more likely to be late?\n",
    "\n",
    "<img img align=\"left\" src=\"https://images.mentalfloss.com/sites/default/files/styles/mf_image_16x9/public/baby_0.jpg\" width=\"500\"/>"
   ]
  },
  {
   "cell_type": "markdown",
   "metadata": {
    "slideshow": {
     "slide_type": "notes"
    }
   },
   "source": [
    "source: https://images.mentalfloss.com/sites/default/files/styles/mf_image_16x9/public/baby_0.jpg"
   ]
  },
  {
   "cell_type": "markdown",
   "metadata": {
    "slideshow": {
     "slide_type": "fragment"
    }
   },
   "source": [
    "### This can be answered with a hypothesis test!"
   ]
  },
  {
   "cell_type": "markdown",
   "metadata": {
    "slideshow": {
     "slide_type": "slide"
    }
   },
   "source": [
    "## 4. or a A/B testing question such as this:\n",
    "\n",
    "Which of the 2 website designs will lead to more customer engagement (measured by click-through-rate, for example)?\n",
    "\n",
    "<img img align=\"left\" src=\"https://images.ctfassets.net/zw48pl1isxmc/4QYN7VubAAgEAGs0EuWguw/165749ef2fa01c1c004b6a167fd27835/ab-testing.png\" width=\"600\"/>"
   ]
  },
  {
   "cell_type": "markdown",
   "metadata": {
    "slideshow": {
     "slide_type": "notes"
    }
   },
   "source": [
    "source: https://images.ctfassets.net/zw48pl1isxmc/4QYN7VubAAgEAGs0EuWguw/165749ef2fa01c1c004b6a167fd27835/ab-testing.png"
   ]
  },
  {
   "cell_type": "markdown",
   "metadata": {
    "slideshow": {
     "slide_type": "fragment"
    }
   },
   "source": [
    "### This can be answered with a hypothesis test!"
   ]
  },
  {
   "cell_type": "markdown",
   "metadata": {
    "slideshow": {
     "slide_type": "slide"
    }
   },
   "source": [
    "# Lecture learning goals:\n",
    "\n",
    "By the end of this lecture, you should be able to:\n",
    "\n",
    "- define the following important statistical sampling terms\n",
    "    - population\n",
    "    - estimate\n",
    "    - population parameter\n",
    "    - point estimate\n",
    "    - sample\n",
    "    - observation\n",
    "    - observational unit\n",
    "    - sampling distribution\n",
    "- explain the relationship between the sampling distribution point estimate and the population parameter you are trying to estimate\n",
    "- use R to create a population, and then use that population to generate and visualize a sampling distribution of a point estimate"
   ]
  },
  {
   "cell_type": "markdown",
   "metadata": {
    "slideshow": {
     "slide_type": "slide"
    }
   },
   "source": [
    "# Estimation\n",
    "\n",
    "What is estimation? And how do we do it?\n"
   ]
  },
  {
   "cell_type": "markdown",
   "metadata": {
    "slideshow": {
     "slide_type": "slide"
    }
   },
   "source": [
    "## Marketing example revisited\n",
    "\n",
    "**Question:** What proportion of undergraduate students have an iphone?"
   ]
  },
  {
   "cell_type": "markdown",
   "metadata": {
    "slideshow": {
     "slide_type": "fragment"
    }
   },
   "source": [
    "How could we answer this question? Discuss with your neighbour."
   ]
  },
  {
   "cell_type": "markdown",
   "metadata": {
    "slideshow": {
     "slide_type": "slide"
    }
   },
   "source": [
    "<img align=\"left\" src=\"../img/sampling.001.jpeg\" width=\"700\"/>"
   ]
  },
  {
   "cell_type": "markdown",
   "metadata": {
    "slideshow": {
     "slide_type": "slide"
    }
   },
   "source": [
    "What if we randomly selected a subset and then asked them if they have an iphone? We could then calculate a proportion that we could use as an **estimate** of the true population proportion (parameter)? Could this work? \n",
    "\n",
    "<img align=\"left\" src=\"../img/sampling.002.jpeg\" width=\"700\"/>"
   ]
  },
  {
   "cell_type": "markdown",
   "metadata": {
    "slideshow": {
     "slide_type": "fragment"
    }
   },
   "source": [
    "Let's experiment and see how well sample estimates reflect the true population parameter we are interested in measuring!"
   ]
  },
  {
   "cell_type": "markdown",
   "metadata": {
    "slideshow": {
     "slide_type": "slide"
    }
   },
   "source": [
    "# Virtual sampling simulation\n",
    "\n",
    "- Let's create a virtual box of timbits (our population)\n",
    "- Let's each use R to:\n",
    "    - collect a random sample of 40 timbits, \n",
    "    - calculate a proportion of chocolate timbits\n",
    "    - add our proportion to this shared [Google sheet](https://docs.google.com/spreadsheets/d/152tE3_dA6yz3fhbihFXgH0HtMmtLinb2WMGNCJrbAcg/edit?usp=sharing) to build a distribution of this sample statistic\n",
    "\n",
    "<img align=\"left\" src=\"https://cdn.insidetimmies.com/wp-content/uploads/2014/05/tibits.jpg\" width=\"300\"/>\n",
    "\n",
    "\n"
   ]
  },
  {
   "cell_type": "markdown",
   "metadata": {
    "slideshow": {
     "slide_type": "notes"
    }
   },
   "source": [
    "source: https://insidetimmies.com/2014/05/20/tim-hortons-has-sold-400000-km-of-timbits-since-its-introduction-in-1976/"
   ]
  },
  {
   "cell_type": "markdown",
   "metadata": {
    "slideshow": {
     "slide_type": "fragment"
    }
   },
   "source": [
    "- We’ll switch to virtual sampling because while collecting 70 (or so) tactile samples manually is feasible, for large numbers like 1000, things start getting tiresome! "
   ]
  },
  {
   "cell_type": "markdown",
   "metadata": {
    "slideshow": {
     "slide_type": "slide"
    }
   },
   "source": [
    "## 1. Create a virtual box of timbits (population)\n",
    "\n",
    "Let's \"create\" a population of 10000 timbits where the proportion of chocolate timbits is 0.63 and the proportion of old fashioned timbits is 0.37.\n",
    "\n",
    "**IMPORTANT - set your seed to 1234 so that we all create the same population!**"
   ]
  },
  {
   "cell_type": "code",
   "execution_count": 7,
   "metadata": {
    "slideshow": {
     "slide_type": "fragment"
    }
   },
   "outputs": [
    {
     "data": {
      "text/html": [
       "<table>\n",
       "<caption>A tibble: 6 × 2</caption>\n",
       "<thead>\n",
       "\t<tr><th scope=col>timbit_id</th><th scope=col>color</th></tr>\n",
       "\t<tr><th scope=col>&lt;dbl&gt;</th><th scope=col>&lt;fct&gt;</th></tr>\n",
       "</thead>\n",
       "<tbody>\n",
       "\t<tr><td>1</td><td>chocolate    </td></tr>\n",
       "\t<tr><td>2</td><td>chocolate    </td></tr>\n",
       "\t<tr><td>3</td><td>chocolate    </td></tr>\n",
       "\t<tr><td>4</td><td>chocolate    </td></tr>\n",
       "\t<tr><td>5</td><td>old fashioned</td></tr>\n",
       "\t<tr><td>6</td><td>old fashioned</td></tr>\n",
       "</tbody>\n",
       "</table>\n"
      ],
      "text/latex": [
       "A tibble: 6 × 2\n",
       "\\begin{tabular}{r|ll}\n",
       " timbit\\_id & color\\\\\n",
       " <dbl> & <fct>\\\\\n",
       "\\hline\n",
       "\t 1 & chocolate    \\\\\n",
       "\t 2 & chocolate    \\\\\n",
       "\t 3 & chocolate    \\\\\n",
       "\t 4 & chocolate    \\\\\n",
       "\t 5 & old fashioned\\\\\n",
       "\t 6 & old fashioned\\\\\n",
       "\\end{tabular}\n"
      ],
      "text/markdown": [
       "\n",
       "A tibble: 6 × 2\n",
       "\n",
       "| timbit_id &lt;dbl&gt; | color &lt;fct&gt; |\n",
       "|---|---|\n",
       "| 1 | chocolate     |\n",
       "| 2 | chocolate     |\n",
       "| 3 | chocolate     |\n",
       "| 4 | chocolate     |\n",
       "| 5 | old fashioned |\n",
       "| 6 | old fashioned |\n",
       "\n"
      ],
      "text/plain": [
       "  timbit_id color        \n",
       "1 1         chocolate    \n",
       "2 2         chocolate    \n",
       "3 3         chocolate    \n",
       "4 4         chocolate    \n",
       "5 5         old fashioned\n",
       "6 6         old fashioned"
      ]
     },
     "metadata": {},
     "output_type": "display_data"
    }
   ],
   "source": [
    "library(tidyverse)\n",
    "set.seed(1234)\n",
    "virtual_box <- tibble(timbit_id = seq(from = 1, to = 10000, by = 1),\n",
    "                      color = factor(rbinom(10000, 1, 0.63), \n",
    "                                     levels = c(1, 0),\n",
    "                                     labels = c(\"chocolate\", \"old fashioned\")))\n",
    "head(virtual_box)"
   ]
  },
  {
   "cell_type": "markdown",
   "metadata": {
    "slideshow": {
     "slide_type": "notes"
    }
   },
   "source": [
    "- Here we use `rbinom` to \"create\" the population of 10000 timbits where the proportion of chocolate is 0.63 and the proportion of old fashioned is 0.37."
   ]
  },
  {
   "cell_type": "markdown",
   "metadata": {
    "slideshow": {
     "slide_type": "notes"
    }
   },
   "source": [
    "- We also use `seq` to create a column called `timbit_id` that holds the value from 1 to 10000."
   ]
  },
  {
   "cell_type": "markdown",
   "metadata": {
    "slideshow": {
     "slide_type": "notes"
    }
   },
   "source": [
    "- We use `tibble` to make keep these two columns together as a data frame (tibble is a special type of data frame that you will learn more about in the Data Wrangling course)."
   ]
  },
  {
   "cell_type": "markdown",
   "metadata": {
    "slideshow": {
     "slide_type": "slide"
    }
   },
   "source": [
    "## 2. Drawing a single sample of size 40\n",
    "\n",
    "Let's simulate taking one random sample from our virtual timbits box. We will use the `rep_sample_n` function from the `infer` package:"
   ]
  },
  {
   "cell_type": "code",
   "execution_count": 9,
   "metadata": {
    "slideshow": {
     "slide_type": "fragment"
    }
   },
   "outputs": [
    {
     "data": {
      "text/html": [
       "<table>\n",
       "<caption>A grouped_df: 6 × 3</caption>\n",
       "<thead>\n",
       "\t<tr><th scope=col>replicate</th><th scope=col>timbit_id</th><th scope=col>color</th></tr>\n",
       "\t<tr><th scope=col>&lt;int&gt;</th><th scope=col>&lt;dbl&gt;</th><th scope=col>&lt;fct&gt;</th></tr>\n",
       "</thead>\n",
       "<tbody>\n",
       "\t<tr><td>1</td><td>8518</td><td>old fashioned</td></tr>\n",
       "\t<tr><td>1</td><td>3103</td><td>old fashioned</td></tr>\n",
       "\t<tr><td>1</td><td>1606</td><td>chocolate    </td></tr>\n",
       "\t<tr><td>1</td><td> 399</td><td>chocolate    </td></tr>\n",
       "\t<tr><td>1</td><td>5069</td><td>chocolate    </td></tr>\n",
       "\t<tr><td>1</td><td>7596</td><td>chocolate    </td></tr>\n",
       "</tbody>\n",
       "</table>\n"
      ],
      "text/latex": [
       "A grouped_df: 6 × 3\n",
       "\\begin{tabular}{r|lll}\n",
       " replicate & timbit\\_id & color\\\\\n",
       " <int> & <dbl> & <fct>\\\\\n",
       "\\hline\n",
       "\t 1 & 8518 & old fashioned\\\\\n",
       "\t 1 & 3103 & old fashioned\\\\\n",
       "\t 1 & 1606 & chocolate    \\\\\n",
       "\t 1 &  399 & chocolate    \\\\\n",
       "\t 1 & 5069 & chocolate    \\\\\n",
       "\t 1 & 7596 & chocolate    \\\\\n",
       "\\end{tabular}\n"
      ],
      "text/markdown": [
       "\n",
       "A grouped_df: 6 × 3\n",
       "\n",
       "| replicate &lt;int&gt; | timbit_id &lt;dbl&gt; | color &lt;fct&gt; |\n",
       "|---|---|---|\n",
       "| 1 | 8518 | old fashioned |\n",
       "| 1 | 3103 | old fashioned |\n",
       "| 1 | 1606 | chocolate     |\n",
       "| 1 |  399 | chocolate     |\n",
       "| 1 | 5069 | chocolate     |\n",
       "| 1 | 7596 | chocolate     |\n",
       "\n"
      ],
      "text/plain": [
       "  replicate timbit_id color        \n",
       "1 1         8518      old fashioned\n",
       "2 1         3103      old fashioned\n",
       "3 1         1606      chocolate    \n",
       "4 1          399      chocolate    \n",
       "5 1         5069      chocolate    \n",
       "6 1         7596      chocolate    "
      ]
     },
     "metadata": {},
     "output_type": "display_data"
    }
   ],
   "source": [
    "library(infer)\n",
    "set.seed(NULL) # so that we each collect a different sample\n",
    "\n",
    "one_sample <- rep_sample_n(virtual_box, size = 40)\n",
    "head(one_sample)"
   ]
  },
  {
   "cell_type": "markdown",
   "metadata": {
    "slideshow": {
     "slide_type": "notes"
    }
   },
   "source": [
    "We can tell by the `timbit_id` column that R indeed did what we asked - randomly selected 40 timbits from our virtual box."
   ]
  },
  {
   "cell_type": "markdown",
   "metadata": {
    "slideshow": {
     "slide_type": "slide"
    }
   },
   "source": [
    "### What is the proportion of chocolate in our single sample?"
   ]
  },
  {
   "cell_type": "code",
   "execution_count": 12,
   "metadata": {
    "slideshow": {
     "slide_type": "fragment"
    }
   },
   "outputs": [
    {
     "data": {
      "text/html": [
       "<table>\n",
       "<caption>A tibble: 1 × 3</caption>\n",
       "<thead>\n",
       "\t<tr><th scope=col>replicate</th><th scope=col>chocolate</th><th scope=col>prop_chocolate</th></tr>\n",
       "\t<tr><th scope=col>&lt;int&gt;</th><th scope=col>&lt;int&gt;</th><th scope=col>&lt;dbl&gt;</th></tr>\n",
       "</thead>\n",
       "<tbody>\n",
       "\t<tr><td>1</td><td>24</td><td>0.6</td></tr>\n",
       "</tbody>\n",
       "</table>\n"
      ],
      "text/latex": [
       "A tibble: 1 × 3\n",
       "\\begin{tabular}{r|lll}\n",
       " replicate & chocolate & prop\\_chocolate\\\\\n",
       " <int> & <int> & <dbl>\\\\\n",
       "\\hline\n",
       "\t 1 & 24 & 0.6\\\\\n",
       "\\end{tabular}\n"
      ],
      "text/markdown": [
       "\n",
       "A tibble: 1 × 3\n",
       "\n",
       "| replicate &lt;int&gt; | chocolate &lt;int&gt; | prop_chocolate &lt;dbl&gt; |\n",
       "|---|---|---|\n",
       "| 1 | 24 | 0.6 |\n",
       "\n"
      ],
      "text/plain": [
       "  replicate chocolate prop_chocolate\n",
       "1 1         24        0.6           "
      ]
     },
     "metadata": {},
     "output_type": "display_data"
    }
   ],
   "source": [
    "(total_chocolate_one_sample <- summarize(one_sample, chocolate = sum(color == \"chocolate\"),\n",
    "                                        prop_chocolate = sum(color == \"chocolate\") / 40))"
   ]
  },
  {
   "cell_type": "markdown",
   "metadata": {
    "slideshow": {
     "slide_type": "notes"
    }
   },
   "source": [
    "- `summarize` applies a a data transformation across the rows of a data frame (more about this in Data Wrangling)"
   ]
  },
  {
   "cell_type": "markdown",
   "metadata": {
    "slideshow": {
     "slide_type": "notes"
    }
   },
   "source": [
    "- The additional parentheses, `(` and `)`, around the code above tells R to print the object to screen in addition to saving the computation to an object."
   ]
  },
  {
   "cell_type": "markdown",
   "metadata": {
    "slideshow": {
     "slide_type": "slide"
    }
   },
   "source": [
    "## Add our caluclated proportion to the shared Google sheet\n",
    "\n",
    "- [Google sheet](https://docs.google.com/spreadsheets/d/152tE3_dA6yz3fhbihFXgH0HtMmtLinb2WMGNCJrbAcg/edit?usp=sharing)"
   ]
  },
  {
   "cell_type": "markdown",
   "metadata": {
    "slideshow": {
     "slide_type": "slide"
    }
   },
   "source": [
    "## Now it's your turn! Go!\n",
    "\n",
    "1. Collect a random sample of 40 timbits & calculate a proportion of chocolate timbits (code below).\n",
    "\n",
    "```\n",
    "set.seed(1234) # so that we all have the same population\n",
    "virtual_box <- tibble(timbit_id = seq(from = 1, to = 10000, by = 1),\n",
    "                      color = factor(rbinom(10000, 1, 0.63), \n",
    "                                     levels = c(1, 0),\n",
    "                                     labels = c(\"chocolate\", \"old fashioned\")))\n",
    "set.seed(NULL) # so that we each collect a different sample\n",
    "one_sample <- rep_sample_n(virtual_box, size = 40)\n",
    "total_chocolate_one_sample <- summarize(one_sample, chocolate = sum(color == \"chocolate\"),\n",
    "                                        prop_chocolate = sum(color == \"chocolate\") / 40)\n",
    "```\n",
    "2. add our proportion to this shared [Google sheet](https://docs.google.com/spreadsheets/d/152tE3_dA6yz3fhbihFXgH0HtMmtLinb2WMGNCJrbAcg/edit?usp=sharing) to build a distribution of this sample statistic."
   ]
  },
  {
   "cell_type": "markdown",
   "metadata": {
    "slideshow": {
     "slide_type": "slide"
    }
   },
   "source": [
    "## Discussion time\n",
    "\n",
    "How well do our samples represent the population parameter we are interested in (proportion of chocolate timbits)?"
   ]
  },
  {
   "cell_type": "markdown",
   "metadata": {
    "slideshow": {
     "slide_type": "slide"
    }
   },
   "source": [
    "## 3. Drawing 70 samples of size 40\n",
    "\n",
    "Now let's use R to do by ourselves what we just did in class as a group: \n",
    "\n",
    "Let's take 70 random samples and then look at the distribution of the proportions of these samples (or the sampling distribution of the sample proportions)."
   ]
  },
  {
   "cell_type": "markdown",
   "metadata": {
    "slideshow": {
     "slide_type": "slide"
    }
   },
   "source": [
    "To do this, first we use `rep_sample_n` as previously, but we add the `reps` argument:"
   ]
  },
  {
   "cell_type": "code",
   "execution_count": 14,
   "metadata": {
    "slideshow": {
     "slide_type": "fragment"
    }
   },
   "outputs": [
    {
     "data": {
      "text/html": [
       "<table>\n",
       "<caption>A grouped_df: 6 × 3</caption>\n",
       "<thead>\n",
       "\t<tr><th scope=col>replicate</th><th scope=col>timbit_id</th><th scope=col>color</th></tr>\n",
       "\t<tr><th scope=col>&lt;int&gt;</th><th scope=col>&lt;dbl&gt;</th><th scope=col>&lt;fct&gt;</th></tr>\n",
       "</thead>\n",
       "<tbody>\n",
       "\t<tr><td>1</td><td> 532</td><td>chocolate    </td></tr>\n",
       "\t<tr><td>1</td><td>8893</td><td>chocolate    </td></tr>\n",
       "\t<tr><td>1</td><td>9245</td><td>chocolate    </td></tr>\n",
       "\t<tr><td>1</td><td> 193</td><td>chocolate    </td></tr>\n",
       "\t<tr><td>1</td><td>7207</td><td>chocolate    </td></tr>\n",
       "\t<tr><td>1</td><td>2460</td><td>old fashioned</td></tr>\n",
       "</tbody>\n",
       "</table>\n"
      ],
      "text/latex": [
       "A grouped_df: 6 × 3\n",
       "\\begin{tabular}{r|lll}\n",
       " replicate & timbit\\_id & color\\\\\n",
       " <int> & <dbl> & <fct>\\\\\n",
       "\\hline\n",
       "\t 1 &  532 & chocolate    \\\\\n",
       "\t 1 & 8893 & chocolate    \\\\\n",
       "\t 1 & 9245 & chocolate    \\\\\n",
       "\t 1 &  193 & chocolate    \\\\\n",
       "\t 1 & 7207 & chocolate    \\\\\n",
       "\t 1 & 2460 & old fashioned\\\\\n",
       "\\end{tabular}\n"
      ],
      "text/markdown": [
       "\n",
       "A grouped_df: 6 × 3\n",
       "\n",
       "| replicate &lt;int&gt; | timbit_id &lt;dbl&gt; | color &lt;fct&gt; |\n",
       "|---|---|---|\n",
       "| 1 |  532 | chocolate     |\n",
       "| 1 | 8893 | chocolate     |\n",
       "| 1 | 9245 | chocolate     |\n",
       "| 1 |  193 | chocolate     |\n",
       "| 1 | 7207 | chocolate     |\n",
       "| 1 | 2460 | old fashioned |\n",
       "\n"
      ],
      "text/plain": [
       "  replicate timbit_id color        \n",
       "1 1          532      chocolate    \n",
       "2 1         8893      chocolate    \n",
       "3 1         9245      chocolate    \n",
       "4 1          193      chocolate    \n",
       "5 1         7207      chocolate    \n",
       "6 1         2460      old fashioned"
      ]
     },
     "metadata": {},
     "output_type": "display_data"
    }
   ],
   "source": [
    "seventy_samples <- rep_sample_n(virtual_box, size = 40, reps = 70)\n",
    "head(seventy_samples)"
   ]
  },
  {
   "cell_type": "markdown",
   "metadata": {
    "slideshow": {
     "slide_type": "notes"
    }
   },
   "source": [
    "This gives us 70 random samples of size 40 from the population (`virtual_box`). You can explore the `replicate` column and the `timbit_id` column to prove that to yourself."
   ]
  },
  {
   "cell_type": "markdown",
   "metadata": {
    "slideshow": {
     "slide_type": "slide"
    }
   },
   "source": [
    "### What is the proportion of chocolate in our 70 samples?"
   ]
  },
  {
   "cell_type": "markdown",
   "metadata": {
    "slideshow": {
     "slide_type": "slide"
    }
   },
   "source": [
    "First we create a `group_by` attribute for the `replicate` column our data frame. This is so we can apply the summarize function to each replicate without explicitly writing our own loop (again, more about this in Data Wrangling). \n",
    "\n",
    "*note - we could loop in R, but this is faster and easier (once you practice it a bit)...*"
   ]
  },
  {
   "cell_type": "code",
   "execution_count": 15,
   "metadata": {
    "slideshow": {
     "slide_type": "fragment"
    }
   },
   "outputs": [],
   "source": [
    "seventy_samples_grouped <- group_by(seventy_samples, replicate)"
   ]
  },
  {
   "cell_type": "markdown",
   "metadata": {
    "slideshow": {
     "slide_type": "fragment"
    }
   },
   "source": [
    "*note - our data frame pretty much the same to us if we print it, however it changes how it acts with the other tidyverse functions...*\n"
   ]
  },
  {
   "cell_type": "markdown",
   "metadata": {
    "slideshow": {
     "slide_type": "slide"
    }
   },
   "source": [
    "Finally, we count the total number of chocolate timbits for each sample and calculate the proportion:"
   ]
  },
  {
   "cell_type": "code",
   "execution_count": 32,
   "metadata": {
    "slideshow": {
     "slide_type": "fragment"
    }
   },
   "outputs": [
    {
     "data": {
      "text/html": [
       "<table>\n",
       "<caption>A tibble: 6 × 3</caption>\n",
       "<thead>\n",
       "\t<tr><th scope=col>replicate</th><th scope=col>chocolate</th><th scope=col>prop_chocolate</th></tr>\n",
       "\t<tr><th scope=col>&lt;int&gt;</th><th scope=col>&lt;int&gt;</th><th scope=col>&lt;dbl&gt;</th></tr>\n",
       "</thead>\n",
       "<tbody>\n",
       "\t<tr><td>1</td><td>25</td><td>0.625</td></tr>\n",
       "\t<tr><td>2</td><td>27</td><td>0.675</td></tr>\n",
       "\t<tr><td>3</td><td>24</td><td>0.600</td></tr>\n",
       "\t<tr><td>4</td><td>29</td><td>0.725</td></tr>\n",
       "\t<tr><td>5</td><td>31</td><td>0.775</td></tr>\n",
       "\t<tr><td>6</td><td>26</td><td>0.650</td></tr>\n",
       "</tbody>\n",
       "</table>\n"
      ],
      "text/latex": [
       "A tibble: 6 × 3\n",
       "\\begin{tabular}{r|lll}\n",
       " replicate & chocolate & prop\\_chocolate\\\\\n",
       " <int> & <int> & <dbl>\\\\\n",
       "\\hline\n",
       "\t 1 & 25 & 0.625\\\\\n",
       "\t 2 & 27 & 0.675\\\\\n",
       "\t 3 & 24 & 0.600\\\\\n",
       "\t 4 & 29 & 0.725\\\\\n",
       "\t 5 & 31 & 0.775\\\\\n",
       "\t 6 & 26 & 0.650\\\\\n",
       "\\end{tabular}\n"
      ],
      "text/markdown": [
       "\n",
       "A tibble: 6 × 3\n",
       "\n",
       "| replicate &lt;int&gt; | chocolate &lt;int&gt; | prop_chocolate &lt;dbl&gt; |\n",
       "|---|---|---|\n",
       "| 1 | 25 | 0.625 |\n",
       "| 2 | 27 | 0.675 |\n",
       "| 3 | 24 | 0.600 |\n",
       "| 4 | 29 | 0.725 |\n",
       "| 5 | 31 | 0.775 |\n",
       "| 6 | 26 | 0.650 |\n",
       "\n"
      ],
      "text/plain": [
       "  replicate chocolate prop_chocolate\n",
       "1 1         25        0.625         \n",
       "2 2         27        0.675         \n",
       "3 3         24        0.600         \n",
       "4 4         29        0.725         \n",
       "5 5         31        0.775         \n",
       "6 6         26        0.650         "
      ]
     },
     "metadata": {},
     "output_type": "display_data"
    }
   ],
   "source": [
    "total_chocolate_seventy_samples <- summarize(seventy_samples_grouped, chocolate = sum(color == \"chocolate\"),\n",
    "                                            prop_chocolate = sum(color == \"chocolate\") / 40)\n",
    "head(total_chocolate_seventy_samples)"
   ]
  },
  {
   "cell_type": "markdown",
   "metadata": {
    "slideshow": {
     "slide_type": "notes"
    }
   },
   "source": [
    "Or once you learn pipes in Data Wrangling you can simplify the code above too:"
   ]
  },
  {
   "cell_type": "code",
   "execution_count": 33,
   "metadata": {
    "slideshow": {
     "slide_type": "notes"
    }
   },
   "outputs": [],
   "source": [
    "prop_chocolate_seventy_samples <- rep_sample_n(virtual_box, size = 40, reps = 70) %>% \n",
    "  group_by(replicate) %>% \n",
    "  summarize(chocolate = sum(color == \"chocolate\"),\n",
    "           prop_chocolate = sum(color == \"chocolate\") / 40)"
   ]
  },
  {
   "cell_type": "markdown",
   "metadata": {
    "slideshow": {
     "slide_type": "slide"
    }
   },
   "source": [
    "## Plot the distribution of sample proportions"
   ]
  },
  {
   "cell_type": "code",
   "execution_count": 30,
   "metadata": {
    "slideshow": {
     "slide_type": "skip"
    }
   },
   "outputs": [],
   "source": [
    "#set-up plot width and height\n",
    "options(repr.plot.width=5, repr.plot.height=3)"
   ]
  },
  {
   "cell_type": "code",
   "execution_count": 29,
   "metadata": {
    "slideshow": {
     "slide_type": "fragment"
    }
   },
   "outputs": [
    {
     "data": {
      "image/png": "[encoded data removed]",
      "text/plain": [
       "plot without title"
      ]
     },
     "metadata": {},
     "output_type": "display_data"
    }
   ],
   "source": [
    "# calculate mean of the proportion of the seventy samples\n",
    "mean_prop_seventy_samples <- round(mean(prop_chocolate_seventy_samples$prop_chocolate), 2)\n",
    "# visualize the sampling distribution of proportion of chocolate timbits for the seventy samples \n",
    "(sampling_distribution <- ggplot(prop_chocolate_seventy_samples, aes(x = prop_chocolate)) + # specify data to be plotted\n",
    "    geom_histogram(binwidth = 0.025, color = \"white\") +  # use histogram geom\n",
    "    labs(x = \"Sample proportion of chocolate timbits based on n = 40\") + # add x-axis label\n",
    "    geom_vline(xintercept = mean_prop_seventy_samples, colour = \"red\") + # add vertical line at mean\n",
    "    annotate(\"text\", x = 0.66, y = 11.5, label = mean_prop_seventy_samples)) # add mean value as text"
   ]
  },
  {
   "cell_type": "markdown",
   "metadata": {
    "slideshow": {
     "slide_type": "slide"
    }
   },
   "source": [
    "## Now it's your turn! Go!\n",
    "\n",
    "1. Collect 70 random samples of 40 timbits & calculate a proportion of chocolate timbits (code below).\n",
    "\n",
    "```\n",
    "set.seed(1234) # so that we all have the same population\n",
    "virtual_box <- tibble(timbit_id = seq(from = 1, to = 10000, by = 1),\n",
    "                      color = factor(rbinom(10000, 1, 0.63), \n",
    "                                     levels = c(1, 0),\n",
    "                                     labels = c(\"chocolate\", \"old fashioned\")))\n",
    "seventy_samples <- rep_sample_n(virtual_box, size = 40, reps = 70)\n",
    "seventy_samples_grouped <- group_by(seventy_samples, replicate)\n",
    "total_chocolate_seventy_samples <- summarize(seventy_samples_grouped, chocolate = sum(color == \"chocolate\"),\n",
    "                                            prop_chocolate = sum(color == \"chocolate\") / 40)\n",
    "mean_prop_seventy_samples <- round(mean(prop_chocolate_seventy_samples$prop_chocolate), 2)\n",
    "(sampling_distribution <- ggplot(prop_chocolate_seventy_samples, aes(x = prop_chocolate)) + # specify data to be plotted\n",
    "    geom_histogram(binwidth = 0.025, color = \"white\") +  # use histogram geom\n",
    "    labs(x = \"Sample proportion of chocolate timbits based on n = 40\") + # add x-axis label\n",
    "    geom_vline(xintercept = mean_prop_seventy_samples, colour = \"red\") + # add vertical line at mean\n",
    "    annotate(\"text\", x = 0.65, y = 10.4, label = mean_prop_seventy_samples)) # add mean value as text\n",
    "```"
   ]
  },
  {
   "cell_type": "markdown",
   "metadata": {
    "slideshow": {
     "slide_type": "slide"
    }
   },
   "source": [
    "## Compare the class's sampling distribution to this one:\n",
    "\n",
    "Note to Instructor - put plots side by side and discuss."
   ]
  },
  {
   "cell_type": "markdown",
   "metadata": {
    "slideshow": {
     "slide_type": "slide"
    }
   },
   "source": [
    "## Back to our marketing example\n",
    "\n",
    "Is randomly selecting a subset of the students (taking a single sample) and then asking them if they have an iphone a good way to estimate the true proportion of all undergraduates who have iphones (population parameter we are interested in)? \n",
    "\n",
    "<img align=\"left\" src=\"../img/sampling.002.jpeg\" width=\"700\"/>"
   ]
  },
  {
   "cell_type": "markdown",
   "metadata": {
    "slideshow": {
     "slide_type": "slide"
    }
   },
   "source": [
    "# Wrap-up \n",
    "\n",
    "What did we learn today? Let's make a list here!\n",
    "\n",
    "- \n",
    "- \n",
    "- \n"
   ]
  },
  {
   "cell_type": "markdown",
   "metadata": {
    "slideshow": {
     "slide_type": "slide"
    }
   },
   "source": [
    "# Questions that we will try to answer next?\n",
    "\n",
    "- What happens when our population is not a gaussian/normal distribution?\n",
    "- Usually we only have one sample? So what can we do? "
   ]
  },
  {
   "cell_type": "markdown",
   "metadata": {
    "slideshow": {
     "slide_type": "notes"
    }
   },
   "source": [
    "# Acknowledgements\n",
    "- [Data Science in a box](https://github.com/rstudio-education/datascience-box) by Mine Cetinkaya-Rundel\n",
    "- [Inference in 3 hours](https://github.com/AllenDowney/CompStats) by Allan Downey\n",
    "- [Modern Dive: An Introduction to Statistical and Data Sciences via R](https://moderndive.com/index.html) by Chester Ismay and Albert Y. Kim"
   ]
  }
 ],
 "metadata": {
  "celltoolbar": "Slideshow",
  "kernelspec": {
   "display_name": "R",
   "language": "R",
   "name": "ir"
  },
  "language_info": {
   "codemirror_mode": "r",
   "file_extension": ".r",
   "mimetype": "text/x-r-source",
   "name": "R",
   "pygments_lexer": "r",
   "version": "3.6.1"
  }
 },
 "nbformat": 4,
 "nbformat_minor": 2
}
