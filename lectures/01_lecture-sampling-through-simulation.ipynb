{
 "cells": [
  {
   "cell_type": "markdown",
   "metadata": {
    "slideshow": {
     "slide_type": "slide"
    }
   },
   "source": [
    "# Lecture 1: Populations and Sampling"
   ]
  },
  {
   "cell_type": "markdown",
   "metadata": {
    "slideshow": {
     "slide_type": "slide"
    }
   },
   "source": [
    "## High-Level Goals of this Course\n",
    "\n",
    "- Build a solid foundational understanding of frequentist Statistical Inference (computational and classical!).\n",
    "- Become competent using `R` to perform computation for frequentist Statistical Inference."
   ]
  },
  {
   "cell_type": "markdown",
   "metadata": {
    "slideshow": {
     "slide_type": "slide"
    }
   },
   "source": [
    "## Today's Learning Goals\n",
    "\n",
    "By the end of this lecture, you should be able to:\n",
    "\n",
    "1. Describe real-world examples of different types of data questions.\n",
    "2. Name common population parameters to be estimated with sample data.\n",
    "3. Define basic statistical terms related to inference.\n",
    "4. Explain random and representative sampling.\n",
    "5. Compare and contrast population distribution, sample distribution, and an estimator's sampling distribution.\n",
    "6. Explain the concept of sampling distribution along with its properties and purpose.\n",
    "7. Write `R` code to approach all these concepts."
   ]
  },
  {
   "cell_type": "markdown",
   "metadata": {
    "slideshow": {
     "slide_type": "slide"
    }
   },
   "source": [
    "## 1. What is Statistical Inference?\n",
    "\n",
    "Statistical inference is the process of using sample data to make conclusions about the underlying population the sample came from. We can have these types of inference: **estimation** and **hypothesis testing**."
   ]
  },
  {
   "cell_type": "markdown",
   "metadata": {
    "slideshow": {
     "slide_type": "slide"
    }
   },
   "source": [
    "### 1.1. Landscape of Statistical Questions    \n",
    "\n",
    "```{figure} img/what_is_the_question.png\n",
    ":height: 500px\n",
    ":name: question\n",
    "\n",
    "Flowchart from [Peng and Leek (2015)](https://science.sciencemag.org/content/347/6228/1314.summary).\n",
    "```"
   ]
  },
  {
   "cell_type": "markdown",
   "metadata": {
    "slideshow": {
     "slide_type": "slide"
    }
   },
   "source": [
    "#### 1.1.1. Descriptive\n",
    "\n",
    "This question seeks to summarize a characteristic of a set of data. There is no interpretation of the result itself as the result is a fact, an attribute of the data set you are working with."
   ]
  },
  {
   "cell_type": "markdown",
   "metadata": {
    "slideshow": {
     "slide_type": "fragment"
    }
   },
   "source": [
    "##### Examples:\n",
    "\n",
    "- What is the frequency of bacterial illnesses in a set of data collected from a group of individuals?\n",
    "- How many people live in each US state?"
   ]
  },
  {
   "cell_type": "markdown",
   "metadata": {
    "slideshow": {
     "slide_type": "slide"
    }
   },
   "source": [
    "#### 1.1.2. Exploratory\n",
    "\n",
    "In this class of question, we analyze the data to see if there are patterns, trends, or relationships between variables **in a set of data**."
   ]
  },
  {
   "cell_type": "markdown",
   "metadata": {
    "slideshow": {
     "slide_type": "fragment"
    }
   },
   "source": [
    "##### Examples:\n",
    "\n",
    "- Do diets rich in certain foods have differing frequencies of bacterial illnesses **in a set of data** collected from a group of individuals? \n",
    "- Does air pollution correlate with life expectancy **in a set of data** collected from groups of individuals from several regions in the United States?  "
   ]
  },
  {
   "cell_type": "markdown",
   "metadata": {
    "slideshow": {
     "slide_type": "slide"
    }
   },
   "source": [
    "#### 1.1.3. Inferential\n",
    "\n",
    "In this class of question, we analyze the data to see if there are patterns, trends, or relationships between variables in a **representative sample**. We want to quantify how much is applicable to all individuals units in the population.\n",
    "\n",
    "\n",
    "```{important}\n",
    "This process implies estimation along with its associated randomness!\n",
    "```"
   ]
  },
  {
   "cell_type": "markdown",
   "metadata": {
    "slideshow": {
     "slide_type": "slide"
    }
   },
   "source": [
    "##### Examples:\n",
    "\n",
    "- Is eating at least five servings a day of fresh fruit and vegetables **associated** with fewer bacterial illnesses per year?\n",
    "- Is the gestational length of first born babies the same as that of non-first borns?"
   ]
  },
  {
   "cell_type": "markdown",
   "metadata": {
    "slideshow": {
     "slide_type": "slide"
    }
   },
   "source": [
    "#### 1.1.4. Predictive\n",
    "\n",
    "For this class of question we are trying to predict measurements or labels for individuals (people or things). We are less interested in what causes the predicted outcome, just what predicts it.\n",
    "\n",
    "```{attention}\n",
    "We are less concerned on whether there is a significant association or causation (statistically speaking!) between the response and covariates.\n",
    "```"
   ]
  },
  {
   "cell_type": "markdown",
   "metadata": {
    "slideshow": {
     "slide_type": "slide"
    }
   },
   "source": [
    "##### Examples: \n",
    "\n",
    "- How many viral illnesses will someone have next year?\n",
    "- What political party will someone vote for in the next US election?"
   ]
  },
  {
   "cell_type": "markdown",
   "metadata": {
    "slideshow": {
     "slide_type": "slide"
    }
   },
   "source": [
    "#### 1.1.5. Causal\n",
    "\n",
    "This class asks about whether changing one factor will change another factor, on average, in a population. Sometimes the underlying design of the data collection, by default, allows the question to be causal (e.g., **randomized experiment** or a **proper observational study**)."
   ]
  },
  {
   "cell_type": "markdown",
   "metadata": {
    "slideshow": {
     "slide_type": "slide"
    }
   },
   "source": [
    "##### Examples:\n",
    "\n",
    "- Does eating at least 5 servings a day of fresh fruit and vegetables **cause** fewer bacterial illnesses per year?\n",
    "- Does smoking **lead** to cancer?"
   ]
  },
  {
   "cell_type": "markdown",
   "metadata": {
    "slideshow": {
     "slide_type": "slide"
    }
   },
   "source": [
    "#### 1.1.6. Mechanistic\n",
    "\n",
    "This question tries to explain the underlying mechanism of the observed patterns, trends, or relationship (how does it happen?)."
   ]
  },
  {
   "cell_type": "markdown",
   "metadata": {
    "slideshow": {
     "slide_type": "fragment"
    }
   },
   "source": [
    "##### Examples:\n",
    "\n",
    "- How do changes in diet lead to a reduction in the number of bacterial illnesses?\n",
    "- How does how airplane wing design changes air flow over a wing, leading to decreased drag?"
   ]
  },
  {
   "cell_type": "markdown",
   "metadata": {
    "slideshow": {
     "slide_type": "slide"
    }
   },
   "source": [
    "### 1.2. Types of Statistical Questions (and where you will approach them in MDS-V)\n",
    "\n",
    "1. Descriptive (DSCI 511, 523, 531, 532).\n",
    "2. Exploratory (DSCI 531, 532, 563).\n",
    "3. **Inferential** (DSCI **552**, **561**, **562**, **553**, 574).\n",
    "4. Predictive (DSCI 571, 572, 573, 574, 575).\n",
    "5. **Causal** (DSCI **554**).\n",
    "6. Mechanistic (not in MDS)."
   ]
  },
  {
   "cell_type": "markdown",
   "metadata": {
    "slideshow": {
     "slide_type": "slide"
    }
   },
   "source": [
    "## 2. Things we can do with Statistical Inference..."
   ]
  },
  {
   "cell_type": "markdown",
   "metadata": {
    "slideshow": {
     "slide_type": "fragment"
    }
   },
   "source": [
    "**Make a statement such as:**\n",
    "\n",
    "\"*Based on a the results of the latest poll, we estimate that 47.2% of Americans think that firearms should have strong regulations or restrictions when thinking about gun ownership rights and gun laws.*\"\n",
    "\n",
    "**Source:** [Track American public opinion with the Reuters/Ipsos poll.](http://polling.reuters.com/#!response/PV20/type/smallest/dates/20180505-20181002/collapsed/true)\n",
    "\n",
    "```{attention}\n",
    "This is estimation!\n",
    "```"
   ]
  },
  {
   "cell_type": "markdown",
   "metadata": {
    "slideshow": {
     "slide_type": "slide"
    }
   },
   "source": [
    "### 2.1. Let us image the following...\n",
    "\n",
    "A mayor election is coming up next summer in Mexico City, and you are a famous national pollster. There are two candidates: **A** and **B**.\n",
    "<center>\n",
    "    <img src=\"https://media.giphy.com/media/26xBMNOQjSdNTWgsU/giphy.gif\" width=\"500\" height=\"300\"/>\n",
    "    <div style=\"text-align: center\"><i>Image from <a href=\"https://media.giphy.com/media/26xBMNOQjSdNTWgsU/giphy.gif\">giphy.com</i></a></div>\n",
    "    <br>\n",
    "</center>\n",
    "\n",
    "You want to **estimate** the proportion of votes each candidate will obtain in this election. Hence, you decide to conduct a poll on Facebook via my fan page with $n = 100,000$ respondents.\n",
    "\n",
    "<center>\n",
    "    <img src=\"https://media.giphy.com/media/3xz2BLHPfdkbJXniM0/giphy.gif\" width=\"200\" height=\"200\"/>\n",
    "    <div style=\"text-align: center\"><i>Image from <a href=\"https://media.giphy.com/media/3xz2BLHPfdkbJXniM0/giphy.gif\">giphy.com</i></a></div>\n",
    "    <br>\n",
    "</center>"
   ]
  },
  {
   "cell_type": "markdown",
   "metadata": {
    "slideshow": {
     "slide_type": "slide"
    }
   },
   "source": [
    "**What are the results of this Facebook poll?**\n",
    "\n",
    "Your poll **estimates** that candidate **B** will get most of the votes. You show these results to the media, claiming they are 100% accurate and unbiased."
   ]
  },
  {
   "cell_type": "markdown",
   "metadata": {
    "slideshow": {
     "slide_type": "fragment"
    }
   },
   "source": [
    "### 2.2. Is this poll statistically correct? Why or why not?\n",
    "\n",
    "**Your electoral poll is wrong in so many statistical levels!**\n",
    "\n",
    "Your are not properly defining your population of interest. This definition is key before conducting any statistical study.\n",
    "\n",
    "```{important}\n",
    "In this example, our population of interest is: \"all Mexico City's eligible citizens to vote in the upcoming election.\"\n",
    "```\n",
    "\n",
    "Once we have defined our population of interest, then we can start thinking about our random sample. Moreover, conducting a poll **on Facebook** will end up in biased and inaccurate results (even if the sample size is large!).\n",
    "\n",
    "```{attention}\n",
    "By collecting a sample from Facebook, we are at stake of including individuals **NOT** eligible to vote in Mexico City and excluding others without access to this social network (who might be eligible).\n",
    "```\n",
    "\n",
    "A proper sampling method is also key in inferential inquiries, as well as in others such as causal. Note there are different methods of sampling:\n",
    "\n",
    "- Simple random sampling.\n",
    "- Systematic sampling.\n",
    "- Stratified sampling.\n",
    "- Clustered sampling.\n",
    "- Etc.\n",
    "\n",
    "```{important}\n",
    "To correct this study: how about a door-to-door poll with clustered sampling in this case?\n",
    "```\n",
    "\n",
    "Note this example has a level of uncertainty associated to estimation or hypothesis testing, which is also taken into account."
   ]
  },
  {
   "cell_type": "markdown",
   "metadata": {
    "slideshow": {
     "slide_type": "slide"
    }
   },
   "source": [
    "## 3. How Do We Perform Estimation?\n",
    "\n",
    "1. Define the population of interest.\n",
    "2. Select the right sampling method according to the specific characteristics of our population of interest.\n",
    "3. Select our sample size (Power Analysis).\n",
    "4. Collect the sampled data.\n",
    "5. Measure and calculate the sample statistic.\n",
    "6. Infer the population value based on this sample statistic while accounting for sampling uncertainty."
   ]
  },
  {
   "cell_type": "markdown",
   "metadata": {
    "slideshow": {
     "slide_type": "slide"
    }
   },
   "source": [
    "## 4. The Airbnb Dataset\n",
    "\n",
    "Let us experiment and see how well sample estimates reflect the true population parameter we are interested in knowing!\n",
    "\n",
    "What if we are interested in a population proportion? Nonetheless, we cannot run a census. Hence, what if we decide to collect a sample to estimate this proportion? How accurate would it be? How would the sampling variability look like?\n",
    "\n",
    "A traveller visiting Vancouver may wish to know how diverse the lodging offer is in **Airbnb** regarding the room type. Mainly, the traveller is interested in the population proportion corresponding to those `listings` involving the *entire home/apartment*.\n",
    "\n",
    "For the sake of this exercise, we will use data from [Inside Airbnb](http://insideAirbnb.com/). The data set contains **Airbnb** `listings` for Vancouver during September 2020.\n",
    "\n",
    "```{attention}\n",
    "Let us imagine (for learning purposes) that our data set represents the population of **ALL Airbnb** rental `listings` in Vancouver.\n",
    "```\n",
    "\n",
    "Moreover, the traveller does not have access to this dataset to compute this population proportion. Therefore, it will be necessary to perform a parameter estimation via sampling **since a census would be unfeasible**."
   ]
  },
  {
   "cell_type": "markdown",
   "metadata": {
    "slideshow": {
     "slide_type": "slide"
    }
   },
   "source": [
    "### 4.1. Loading `R` Packages\n",
    "\n",
    "First off, let us load the libraries for data wrangling, analysis, and plotting."
   ]
  },
  {
   "cell_type": "code",
   "execution_count": 1,
   "metadata": {
    "slideshow": {
     "slide_type": "fragment"
    }
   },
   "outputs": [
    {
     "name": "stderr",
     "output_type": "stream",
     "text": [
      "── \u001b[1mAttaching packages\u001b[22m ─────────────────────────────────────── tidyverse 1.3.1 ──\n",
      "\n",
      "\u001b[32m✔\u001b[39m \u001b[34mggplot2\u001b[39m 3.3.6      \u001b[32m✔\u001b[39m \u001b[34mpurrr  \u001b[39m 0.3.4 \n",
      "\u001b[32m✔\u001b[39m \u001b[34mtibble \u001b[39m 3.1.8      \u001b[32m✔\u001b[39m \u001b[34mdplyr  \u001b[39m 1.0.10\n",
      "\u001b[32m✔\u001b[39m \u001b[34mtidyr  \u001b[39m 1.2.0      \u001b[32m✔\u001b[39m \u001b[34mstringr\u001b[39m 1.4.0 \n",
      "\u001b[32m✔\u001b[39m \u001b[34mreadr  \u001b[39m 2.1.2      \u001b[32m✔\u001b[39m \u001b[34mforcats\u001b[39m 0.5.1 \n",
      "\n",
      "── \u001b[1mConflicts\u001b[22m ────────────────────────────────────────── tidyverse_conflicts() ──\n",
      "\u001b[31m✖\u001b[39m \u001b[34mdplyr\u001b[39m::\u001b[32mfilter()\u001b[39m masks \u001b[34mstats\u001b[39m::filter()\n",
      "\u001b[31m✖\u001b[39m \u001b[34mdplyr\u001b[39m::\u001b[32mlag()\u001b[39m    masks \u001b[34mstats\u001b[39m::lag()\n",
      "\n"
     ]
    }
   ],
   "source": [
    "library(tidyverse)\n",
    "library(infer)\n",
    "options(repr.matrix.max.rows = 8)"
   ]
  },
  {
   "cell_type": "markdown",
   "metadata": {
    "slideshow": {
     "slide_type": "slide"
    }
   },
   "source": [
    "### 4.2. Loading the Population Data Set\n",
    "\n",
    "The data set `listings` contains an `id` number, neighbourhood, type of room, the number of people the rental accommodates, number of bathrooms, bedrooms, beds, and the price per night. We will only select the columns corresponding `id` and `room_type`."
   ]
  },
  {
   "cell_type": "code",
   "execution_count": 2,
   "metadata": {
    "slideshow": {
     "slide_type": "skip"
    }
   },
   "outputs": [
    {
     "name": "stderr",
     "output_type": "stream",
     "text": [
      "\u001b[1mRows: \u001b[22m\u001b[34m4938\u001b[39m \u001b[1mColumns: \u001b[22m\u001b[34m74\u001b[39m\n",
      "\u001b[36m──\u001b[39m \u001b[1mColumn specification\u001b[22m \u001b[36m────────────────────────────────────────────────────────\u001b[39m\n",
      "\u001b[1mDelimiter:\u001b[22m \",\"\n",
      "\u001b[31mchr\u001b[39m  (24): listing_url, name, description, neighborhood_overview, picture_ur...\n",
      "\u001b[32mdbl\u001b[39m  (37): id, scrape_id, host_id, host_listings_count, host_total_listings_...\n",
      "\u001b[33mlgl\u001b[39m   (8): host_is_superhost, host_has_profile_pic, host_identity_verified, ...\n",
      "\u001b[34mdate\u001b[39m  (5): last_scraped, host_since, calendar_last_scraped, first_review, la...\n",
      "\n",
      "\u001b[36mℹ\u001b[39m Use `spec()` to retrieve the full column specification for this data.\n",
      "\u001b[36mℹ\u001b[39m Specify the column types or set `show_col_types = FALSE` to quiet this message.\n"
     ]
    }
   ],
   "source": [
    "listings <- read_csv(\"data/listings.csv\")"
   ]
  },
  {
   "cell_type": "code",
   "execution_count": 3,
   "metadata": {
    "slideshow": {
     "slide_type": "slide"
    }
   },
   "outputs": [
    {
     "data": {
      "text/html": [
       "<table class=\"dataframe\">\n",
       "<caption>A tibble: 4938 × 2</caption>\n",
       "<thead>\n",
       "\t<tr><th scope=col>id</th><th scope=col>room_type</th></tr>\n",
       "\t<tr><th scope=col>&lt;dbl&gt;</th><th scope=col>&lt;chr&gt;</th></tr>\n",
       "</thead>\n",
       "<tbody>\n",
       "\t<tr><td>10080</td><td>Entire home/apt</td></tr>\n",
       "\t<tr><td>13357</td><td>Entire home/apt</td></tr>\n",
       "\t<tr><td>13358</td><td>Entire home/apt</td></tr>\n",
       "\t<tr><td>13490</td><td>Entire home/apt</td></tr>\n",
       "\t<tr><td>⋮</td><td>⋮</td></tr>\n",
       "\t<tr><td>45396342</td><td>Private room   </td></tr>\n",
       "\t<tr><td>45398550</td><td>Private room   </td></tr>\n",
       "\t<tr><td>45400161</td><td>Entire home/apt</td></tr>\n",
       "\t<tr><td>45401776</td><td>Entire home/apt</td></tr>\n",
       "</tbody>\n",
       "</table>\n"
      ],
      "text/latex": [
       "A tibble: 4938 × 2\n",
       "\\begin{tabular}{ll}\n",
       " id & room\\_type\\\\\n",
       " <dbl> & <chr>\\\\\n",
       "\\hline\n",
       "\t 10080 & Entire home/apt\\\\\n",
       "\t 13357 & Entire home/apt\\\\\n",
       "\t 13358 & Entire home/apt\\\\\n",
       "\t 13490 & Entire home/apt\\\\\n",
       "\t ⋮ & ⋮\\\\\n",
       "\t 45396342 & Private room   \\\\\n",
       "\t 45398550 & Private room   \\\\\n",
       "\t 45400161 & Entire home/apt\\\\\n",
       "\t 45401776 & Entire home/apt\\\\\n",
       "\\end{tabular}\n"
      ],
      "text/markdown": [
       "\n",
       "A tibble: 4938 × 2\n",
       "\n",
       "| id &lt;dbl&gt; | room_type &lt;chr&gt; |\n",
       "|---|---|\n",
       "| 10080 | Entire home/apt |\n",
       "| 13357 | Entire home/apt |\n",
       "| 13358 | Entire home/apt |\n",
       "| 13490 | Entire home/apt |\n",
       "| ⋮ | ⋮ |\n",
       "| 45396342 | Private room    |\n",
       "| 45398550 | Private room    |\n",
       "| 45400161 | Entire home/apt |\n",
       "| 45401776 | Entire home/apt |\n",
       "\n"
      ],
      "text/plain": [
       "     id       room_type      \n",
       "1    10080    Entire home/apt\n",
       "2    13357    Entire home/apt\n",
       "3    13358    Entire home/apt\n",
       "4    13490    Entire home/apt\n",
       "⋮    ⋮        ⋮              \n",
       "4935 45396342 Private room   \n",
       "4936 45398550 Private room   \n",
       "4937 45400161 Entire home/apt\n",
       "4938 45401776 Entire home/apt"
      ]
     },
     "metadata": {},
     "output_type": "display_data"
    }
   ],
   "source": [
    "listings <- listings |>\n",
    "  select(id, room_type)\n",
    "listings"
   ]
  },
  {
   "cell_type": "markdown",
   "metadata": {
    "slideshow": {
     "slide_type": "slide"
    }
   },
   "source": [
    "### 4.3. Parameters and Estimates\n",
    "\n",
    "As we already discussed in DSCI 551, in Statistics, we mostly use Greek letters to denote true population parameters (and unknown!). For instance:\n",
    "\n",
    "- $\\pi_E$ is the **population proportion** for elements belonging to **class E (e.g., `Entire home/apt` in population data `listings`)**.\n",
    "- $\\mu$ usually denotes a **continuous population mean**.\n",
    "\n",
    "On the other hand, the same Greek letters **with a hat** indicate estimates, i.e., they were derived from a **sample drawn from the population**:\n",
    "\n",
    "- $\\hat{\\pi}_E$  is an estimate - it is the sample proportion for elements belonging to **class E**.\n",
    "- $\\hat{\\mu}$ is an estimate - it is the sample mean.\n",
    "\n",
    "In this **Airbnb** example, our parameter of interest is the proportion of `listings` that correspond to `Entire home/apt` in column `room_type`.\n",
    "\n",
    "To make this clear, we will write $\\pi_E$ when referring to this **population parameter**. Similarly, we will use $\\hat{\\pi}_E$ when referring to its corresponding **estimate**."
   ]
  },
  {
   "cell_type": "markdown",
   "metadata": {
    "slideshow": {
     "slide_type": "slide"
    }
   },
   "source": [
    "### 4.4. Random Variables\n",
    "\n",
    "We set up random variables to map outcomes of a random process (e.g., flipping a coin, rolling a dice, etc.) to numbers. Random variables are denoted by upper case letters: $X$, $Y$, $Z$, etc.\n",
    "\n",
    "```{attention}\n",
    "Our random variables should map onto our columns in a data frame when doing statistical analysis.\n",
    "```\n",
    "\n",
    "Let us define an $i$th Bernoulli-type random variable as follows:\n",
    "\n",
    "$$\n",
    "X_i =\n",
    "\\begin{cases}\n",
    "1 \\; \\; \\; \\; \\text{if the listing is an entire home or apartment},\\\\\n",
    "0 \\; \\; \\; \\; \\mbox{otherwise}.\n",
    "\\end{cases}\n",
    "$$"
   ]
  },
  {
   "cell_type": "markdown",
   "metadata": {
    "slideshow": {
     "slide_type": "slide"
    }
   },
   "source": [
    "### 4.5. What is the Population Proportion $\\pi_E$?\n",
    "\n",
    "Recall that `listings` contains the population of $4,938$ elements. Hence, for the sake of our estimation exercise, let us compute the **population parameter** $\\pi_E$. "
   ]
  },
  {
   "cell_type": "code",
   "execution_count": 4,
   "metadata": {
    "slideshow": {
     "slide_type": "slide"
    }
   },
   "outputs": [
    {
     "data": {
      "text/html": [
       "<table class=\"dataframe\">\n",
       "<caption>A tibble: 4 × 3</caption>\n",
       "<thead>\n",
       "\t<tr><th scope=col>room_type</th><th scope=col>n</th><th scope=col>freq</th></tr>\n",
       "\t<tr><th scope=col>&lt;chr&gt;</th><th scope=col>&lt;int&gt;</th><th scope=col>&lt;dbl&gt;</th></tr>\n",
       "</thead>\n",
       "<tbody>\n",
       "\t<tr><td>Entire home/apt</td><td>3731</td><td>0.756</td></tr>\n",
       "\t<tr><td>Hotel room     </td><td>   4</td><td>0.001</td></tr>\n",
       "\t<tr><td>Private room   </td><td>1179</td><td>0.239</td></tr>\n",
       "\t<tr><td>Shared room    </td><td>  24</td><td>0.005</td></tr>\n",
       "</tbody>\n",
       "</table>\n"
      ],
      "text/latex": [
       "A tibble: 4 × 3\n",
       "\\begin{tabular}{lll}\n",
       " room\\_type & n & freq\\\\\n",
       " <chr> & <int> & <dbl>\\\\\n",
       "\\hline\n",
       "\t Entire home/apt & 3731 & 0.756\\\\\n",
       "\t Hotel room      &    4 & 0.001\\\\\n",
       "\t Private room    & 1179 & 0.239\\\\\n",
       "\t Shared room     &   24 & 0.005\\\\\n",
       "\\end{tabular}\n"
      ],
      "text/markdown": [
       "\n",
       "A tibble: 4 × 3\n",
       "\n",
       "| room_type &lt;chr&gt; | n &lt;int&gt; | freq &lt;dbl&gt; |\n",
       "|---|---|---|\n",
       "| Entire home/apt | 3731 | 0.756 |\n",
       "| Hotel room      |    4 | 0.001 |\n",
       "| Private room    | 1179 | 0.239 |\n",
       "| Shared room     |   24 | 0.005 |\n",
       "\n"
      ],
      "text/plain": [
       "  room_type       n    freq \n",
       "1 Entire home/apt 3731 0.756\n",
       "2 Hotel room         4 0.001\n",
       "3 Private room    1179 0.239\n",
       "4 Shared room       24 0.005"
      ]
     },
     "metadata": {},
     "output_type": "display_data"
    }
   ],
   "source": [
    "listings |>\n",
    "  group_by(room_type) |>\n",
    "  summarise(n = n()) |>\n",
    "  mutate(freq = round(n / sum(n), 3))"
   ]
  },
  {
   "cell_type": "markdown",
   "metadata": {
    "slideshow": {
     "slide_type": "fragment"
    }
   },
   "source": [
    "```{attention}\n",
    "We can see that $\\pi_E = 0.756$.\n",
    "```"
   ]
  },
  {
   "cell_type": "markdown",
   "metadata": {
    "slideshow": {
     "slide_type": "slide"
    }
   },
   "source": [
    "### 4.6. Drawing a First Sample of  $n = 40$\n",
    "\n",
    "Assume that the traveller does not have access to the population in `listings`. Let us simulate taking one random sample from this population. We will use the `rep_sample_n()` function from the `infer` package."
   ]
  },
  {
   "cell_type": "code",
   "execution_count": 5,
   "metadata": {
    "slideshow": {
     "slide_type": "slide"
    }
   },
   "outputs": [
    {
     "data": {
      "text/html": [
       "<table class=\"dataframe\">\n",
       "<caption>A grouped_df: 40 × 3</caption>\n",
       "<thead>\n",
       "\t<tr><th scope=col>replicate</th><th scope=col>id</th><th scope=col>room_type</th></tr>\n",
       "\t<tr><th scope=col>&lt;int&gt;</th><th scope=col>&lt;dbl&gt;</th><th scope=col>&lt;chr&gt;</th></tr>\n",
       "</thead>\n",
       "<tbody>\n",
       "\t<tr><td>1</td><td>28390229</td><td>Entire home/apt</td></tr>\n",
       "\t<tr><td>1</td><td>26356375</td><td>Entire home/apt</td></tr>\n",
       "\t<tr><td>1</td><td>43480074</td><td>Entire home/apt</td></tr>\n",
       "\t<tr><td>1</td><td>25168981</td><td>Private room   </td></tr>\n",
       "\t<tr><td>⋮</td><td>⋮</td><td>⋮</td></tr>\n",
       "\t<tr><td>1</td><td>29462569</td><td>Entire home/apt</td></tr>\n",
       "\t<tr><td>1</td><td>19894347</td><td>Entire home/apt</td></tr>\n",
       "\t<tr><td>1</td><td>31864754</td><td>Entire home/apt</td></tr>\n",
       "\t<tr><td>1</td><td>26308916</td><td>Entire home/apt</td></tr>\n",
       "</tbody>\n",
       "</table>\n"
      ],
      "text/latex": [
       "A grouped\\_df: 40 × 3\n",
       "\\begin{tabular}{lll}\n",
       " replicate & id & room\\_type\\\\\n",
       " <int> & <dbl> & <chr>\\\\\n",
       "\\hline\n",
       "\t 1 & 28390229 & Entire home/apt\\\\\n",
       "\t 1 & 26356375 & Entire home/apt\\\\\n",
       "\t 1 & 43480074 & Entire home/apt\\\\\n",
       "\t 1 & 25168981 & Private room   \\\\\n",
       "\t ⋮ & ⋮ & ⋮\\\\\n",
       "\t 1 & 29462569 & Entire home/apt\\\\\n",
       "\t 1 & 19894347 & Entire home/apt\\\\\n",
       "\t 1 & 31864754 & Entire home/apt\\\\\n",
       "\t 1 & 26308916 & Entire home/apt\\\\\n",
       "\\end{tabular}\n"
      ],
      "text/markdown": [
       "\n",
       "A grouped_df: 40 × 3\n",
       "\n",
       "| replicate &lt;int&gt; | id &lt;dbl&gt; | room_type &lt;chr&gt; |\n",
       "|---|---|---|\n",
       "| 1 | 28390229 | Entire home/apt |\n",
       "| 1 | 26356375 | Entire home/apt |\n",
       "| 1 | 43480074 | Entire home/apt |\n",
       "| 1 | 25168981 | Private room    |\n",
       "| ⋮ | ⋮ | ⋮ |\n",
       "| 1 | 29462569 | Entire home/apt |\n",
       "| 1 | 19894347 | Entire home/apt |\n",
       "| 1 | 31864754 | Entire home/apt |\n",
       "| 1 | 26308916 | Entire home/apt |\n",
       "\n"
      ],
      "text/plain": [
       "   replicate id       room_type      \n",
       "1  1         28390229 Entire home/apt\n",
       "2  1         26356375 Entire home/apt\n",
       "3  1         43480074 Entire home/apt\n",
       "4  1         25168981 Private room   \n",
       "⋮  ⋮         ⋮        ⋮              \n",
       "37 1         29462569 Entire home/apt\n",
       "38 1         19894347 Entire home/apt\n",
       "39 1         31864754 Entire home/apt\n",
       "40 1         26308916 Entire home/apt"
      ]
     },
     "metadata": {},
     "output_type": "display_data"
    }
   ],
   "source": [
    "set.seed(552) # For reproducibility.\n",
    "sample_1 <- rep_sample_n(listings, size = 40) # Sampling WITHOUT replacement is the default\n",
    "sample_1"
   ]
  },
  {
   "cell_type": "markdown",
   "metadata": {
    "slideshow": {
     "slide_type": "slide"
    }
   },
   "source": [
    "We can compute $\\hat{\\pi}_E$ coming from `sample_1`:"
   ]
  },
  {
   "cell_type": "code",
   "execution_count": 6,
   "metadata": {
    "slideshow": {
     "slide_type": "fragment"
    }
   },
   "outputs": [
    {
     "data": {
      "text/html": [
       "<table class=\"dataframe\">\n",
       "<caption>A tibble: 2 × 3</caption>\n",
       "<thead>\n",
       "\t<tr><th scope=col>room_type</th><th scope=col>n</th><th scope=col>freq</th></tr>\n",
       "\t<tr><th scope=col>&lt;chr&gt;</th><th scope=col>&lt;int&gt;</th><th scope=col>&lt;dbl&gt;</th></tr>\n",
       "</thead>\n",
       "<tbody>\n",
       "\t<tr><td>Entire home/apt</td><td>32</td><td>0.8</td></tr>\n",
       "\t<tr><td>Private room   </td><td> 8</td><td>0.2</td></tr>\n",
       "</tbody>\n",
       "</table>\n"
      ],
      "text/latex": [
       "A tibble: 2 × 3\n",
       "\\begin{tabular}{lll}\n",
       " room\\_type & n & freq\\\\\n",
       " <chr> & <int> & <dbl>\\\\\n",
       "\\hline\n",
       "\t Entire home/apt & 32 & 0.8\\\\\n",
       "\t Private room    &  8 & 0.2\\\\\n",
       "\\end{tabular}\n"
      ],
      "text/markdown": [
       "\n",
       "A tibble: 2 × 3\n",
       "\n",
       "| room_type &lt;chr&gt; | n &lt;int&gt; | freq &lt;dbl&gt; |\n",
       "|---|---|---|\n",
       "| Entire home/apt | 32 | 0.8 |\n",
       "| Private room    |  8 | 0.2 |\n",
       "\n"
      ],
      "text/plain": [
       "  room_type       n  freq\n",
       "1 Entire home/apt 32 0.8 \n",
       "2 Private room     8 0.2 "
      ]
     },
     "metadata": {},
     "output_type": "display_data"
    }
   ],
   "source": [
    "sample_1 |>\n",
    "  group_by(room_type) |>\n",
    "  summarise(n = n()) |>\n",
    "  mutate(freq = round(n / sum(n), 3))"
   ]
  },
  {
   "cell_type": "markdown",
   "metadata": {
    "slideshow": {
     "slide_type": "fragment"
    }
   },
   "source": [
    "Hence,\n",
    "\n",
    "$$\\hat{\\pi}_E = 0.8.$$"
   ]
  },
  {
   "cell_type": "markdown",
   "metadata": {
    "slideshow": {
     "slide_type": "slide"
    }
   },
   "source": [
    "### 4.7. Statistical Clarification\n",
    "\n",
    "We already defined our Bernoulli-type random variable $X_i$ (for $i = 1, \\dots, n$). Note the following:\n",
    "\n",
    "$$\\hat{\\pi}_E = \\frac{X_1 + X_2 + \\ldots + X_n}{n}.$$\n",
    "\n",
    "```{important}\n",
    "An expression such as the one above is called an **estimator**, given it contains random variables. Once you have **realizations** (i.e., actual observed numbers) of these random variables, the estimator becomes an **estimate**.\n",
    "```\n",
    "\n",
    "Therefore, $\\hat{\\pi}_E$ is also a random variable! This means that $\\hat{\\pi}_E$ will vary from sample to sample."
   ]
  },
  {
   "cell_type": "markdown",
   "metadata": {
    "slideshow": {
     "slide_type": "slide"
    }
   },
   "source": [
    "### 4.8. Drawing a Second Sample of  $n = 40$"
   ]
  },
  {
   "cell_type": "code",
   "execution_count": 7,
   "metadata": {
    "scrolled": true,
    "slideshow": {
     "slide_type": "fragment"
    }
   },
   "outputs": [
    {
     "data": {
      "text/html": [
       "<table class=\"dataframe\">\n",
       "<caption>A grouped_df: 40 × 3</caption>\n",
       "<thead>\n",
       "\t<tr><th scope=col>replicate</th><th scope=col>id</th><th scope=col>room_type</th></tr>\n",
       "\t<tr><th scope=col>&lt;int&gt;</th><th scope=col>&lt;dbl&gt;</th><th scope=col>&lt;chr&gt;</th></tr>\n",
       "</thead>\n",
       "<tbody>\n",
       "\t<tr><td>1</td><td>29838522</td><td>Private room   </td></tr>\n",
       "\t<tr><td>1</td><td>30238086</td><td>Entire home/apt</td></tr>\n",
       "\t<tr><td>1</td><td>27576210</td><td>Entire home/apt</td></tr>\n",
       "\t<tr><td>1</td><td> 7026181</td><td>Private room   </td></tr>\n",
       "\t<tr><td>⋮</td><td>⋮</td><td>⋮</td></tr>\n",
       "\t<tr><td>1</td><td> 1678734</td><td>Entire home/apt</td></tr>\n",
       "\t<tr><td>1</td><td> 2326272</td><td>Entire home/apt</td></tr>\n",
       "\t<tr><td>1</td><td>19144132</td><td>Entire home/apt</td></tr>\n",
       "\t<tr><td>1</td><td>31758873</td><td>Entire home/apt</td></tr>\n",
       "</tbody>\n",
       "</table>\n"
      ],
      "text/latex": [
       "A grouped\\_df: 40 × 3\n",
       "\\begin{tabular}{lll}\n",
       " replicate & id & room\\_type\\\\\n",
       " <int> & <dbl> & <chr>\\\\\n",
       "\\hline\n",
       "\t 1 & 29838522 & Private room   \\\\\n",
       "\t 1 & 30238086 & Entire home/apt\\\\\n",
       "\t 1 & 27576210 & Entire home/apt\\\\\n",
       "\t 1 &  7026181 & Private room   \\\\\n",
       "\t ⋮ & ⋮ & ⋮\\\\\n",
       "\t 1 &  1678734 & Entire home/apt\\\\\n",
       "\t 1 &  2326272 & Entire home/apt\\\\\n",
       "\t 1 & 19144132 & Entire home/apt\\\\\n",
       "\t 1 & 31758873 & Entire home/apt\\\\\n",
       "\\end{tabular}\n"
      ],
      "text/markdown": [
       "\n",
       "A grouped_df: 40 × 3\n",
       "\n",
       "| replicate &lt;int&gt; | id &lt;dbl&gt; | room_type &lt;chr&gt; |\n",
       "|---|---|---|\n",
       "| 1 | 29838522 | Private room    |\n",
       "| 1 | 30238086 | Entire home/apt |\n",
       "| 1 | 27576210 | Entire home/apt |\n",
       "| 1 |  7026181 | Private room    |\n",
       "| ⋮ | ⋮ | ⋮ |\n",
       "| 1 |  1678734 | Entire home/apt |\n",
       "| 1 |  2326272 | Entire home/apt |\n",
       "| 1 | 19144132 | Entire home/apt |\n",
       "| 1 | 31758873 | Entire home/apt |\n",
       "\n"
      ],
      "text/plain": [
       "   replicate id       room_type      \n",
       "1  1         29838522 Private room   \n",
       "2  1         30238086 Entire home/apt\n",
       "3  1         27576210 Entire home/apt\n",
       "4  1          7026181 Private room   \n",
       "⋮  ⋮         ⋮        ⋮              \n",
       "37 1          1678734 Entire home/apt\n",
       "38 1          2326272 Entire home/apt\n",
       "39 1         19144132 Entire home/apt\n",
       "40 1         31758873 Entire home/apt"
      ]
     },
     "metadata": {},
     "output_type": "display_data"
    }
   ],
   "source": [
    "set.seed(123) # For reproducibility.\n",
    "sample_2 <- rep_sample_n(listings, size = 40)\n",
    "sample_2"
   ]
  },
  {
   "cell_type": "code",
   "execution_count": 8,
   "metadata": {
    "scrolled": true,
    "slideshow": {
     "slide_type": "slide"
    }
   },
   "outputs": [
    {
     "data": {
      "text/html": [
       "<table class=\"dataframe\">\n",
       "<caption>A tibble: 2 × 3</caption>\n",
       "<thead>\n",
       "\t<tr><th scope=col>room_type</th><th scope=col>n_type</th><th scope=col>freq</th></tr>\n",
       "\t<tr><th scope=col>&lt;chr&gt;</th><th scope=col>&lt;int&gt;</th><th scope=col>&lt;dbl&gt;</th></tr>\n",
       "</thead>\n",
       "<tbody>\n",
       "\t<tr><td>Entire home/apt</td><td>31</td><td>0.775</td></tr>\n",
       "\t<tr><td>Private room   </td><td> 9</td><td>0.225</td></tr>\n",
       "</tbody>\n",
       "</table>\n"
      ],
      "text/latex": [
       "A tibble: 2 × 3\n",
       "\\begin{tabular}{lll}\n",
       " room\\_type & n\\_type & freq\\\\\n",
       " <chr> & <int> & <dbl>\\\\\n",
       "\\hline\n",
       "\t Entire home/apt & 31 & 0.775\\\\\n",
       "\t Private room    &  9 & 0.225\\\\\n",
       "\\end{tabular}\n"
      ],
      "text/markdown": [
       "\n",
       "A tibble: 2 × 3\n",
       "\n",
       "| room_type &lt;chr&gt; | n_type &lt;int&gt; | freq &lt;dbl&gt; |\n",
       "|---|---|---|\n",
       "| Entire home/apt | 31 | 0.775 |\n",
       "| Private room    |  9 | 0.225 |\n",
       "\n"
      ],
      "text/plain": [
       "  room_type       n_type freq \n",
       "1 Entire home/apt 31     0.775\n",
       "2 Private room     9     0.225"
      ]
     },
     "metadata": {},
     "output_type": "display_data"
    }
   ],
   "source": [
    "sample_2 |>\n",
    "  group_by(room_type) |>\n",
    "  summarise(n_type = n()) |>\n",
    "  mutate(freq = round(n_type / sum(n_type), 3))"
   ]
  },
  {
   "cell_type": "markdown",
   "metadata": {
    "slideshow": {
     "slide_type": "fragment"
    }
   },
   "source": [
    "Thus,\n",
    "\n",
    "$$\\hat{\\pi}_E = 0.775.$$"
   ]
  },
  {
   "cell_type": "markdown",
   "metadata": {
    "slideshow": {
     "slide_type": "slide"
    }
   },
   "source": [
    "### 4.9. Sampling Distributions\n",
    "\n",
    "\n",
    "Our estimates $\\hat{\\pi}_E$ from `sample_1` and `sample_2` are different. This is due to **sampling variation** that occurs when taking a random sample.\n",
    "\n",
    "Which of the two estimates is correct, $0.8$ or $0.775$? Well, both are! However, this tells us that reporting just a single number for an estimate is not enough.\n",
    "\n",
    "We would like to also report, along with the estimate from our sample, some plausible range our estimate should fall in (i.e., the range we would expect almost any estimate from our population to fall in). How can we create such a range? It depends on two things:\n",
    "\n",
    "- the distribution of the observations in our population, and\n",
    "- how large the sample is.\n",
    "\n",
    "We can get a proxy of the first from our sample (the sample distribution is really an estimate of the population distribution), and we know our sample size $n$!\n",
    "\n",
    "Let us use simulation to learn how these things change the estimates we derive from sampling the population. To do this, we will construct and visualize a distribution of many estimates, calculated from many samples from our population. This special distribution is called the **sampling distribution** of our estimate. \n",
    "\n",
    "```{attention} \n",
    "We can do this for any estimator. Here, we will continue to work with a proportion, but in `lab1` you will also work with a **continuous mean**. Other estimators (such as the median, variance, correlation coefficient, etc.) also have sampling distributions. \n",
    "```"
   ]
  },
  {
   "cell_type": "markdown",
   "metadata": {
    "slideshow": {
     "slide_type": "slide"
    }
   },
   "source": [
    "### 4.10. Drawing $10,000$ samples of size $n = 40$\n",
    "\n",
    "Let us take $10,000$ random samples, and then look at the distribution of the proportions $\\hat{\\pi}_E$ (or the sampling distribution of the sample proportions) for samples of size $n = 40$.\n",
    "\n",
    "To do this, first we use `rep_sample_n()` as previously, but we will add the `reps` argument. We will end up with $10,000$ different replicates."
   ]
  },
  {
   "cell_type": "code",
   "execution_count": 9,
   "metadata": {
    "slideshow": {
     "slide_type": "slide"
    }
   },
   "outputs": [
    {
     "data": {
      "text/html": [
       "<table class=\"dataframe\">\n",
       "<caption>A grouped_df: 400000 × 3</caption>\n",
       "<thead>\n",
       "\t<tr><th scope=col>replicate</th><th scope=col>id</th><th scope=col>room_type</th></tr>\n",
       "\t<tr><th scope=col>&lt;int&gt;</th><th scope=col>&lt;dbl&gt;</th><th scope=col>&lt;chr&gt;</th></tr>\n",
       "</thead>\n",
       "<tbody>\n",
       "\t<tr><td>1</td><td>28390229</td><td>Entire home/apt</td></tr>\n",
       "\t<tr><td>1</td><td>26356375</td><td>Entire home/apt</td></tr>\n",
       "\t<tr><td>1</td><td>43480074</td><td>Entire home/apt</td></tr>\n",
       "\t<tr><td>1</td><td>25168981</td><td>Private room   </td></tr>\n",
       "\t<tr><td>⋮</td><td>⋮</td><td>⋮</td></tr>\n",
       "\t<tr><td>10000</td><td>32108967</td><td>Entire home/apt</td></tr>\n",
       "\t<tr><td>10000</td><td>15096629</td><td>Entire home/apt</td></tr>\n",
       "\t<tr><td>10000</td><td>27759917</td><td>Private room   </td></tr>\n",
       "\t<tr><td>10000</td><td>45255958</td><td>Private room   </td></tr>\n",
       "</tbody>\n",
       "</table>\n"
      ],
      "text/latex": [
       "A grouped\\_df: 400000 × 3\n",
       "\\begin{tabular}{lll}\n",
       " replicate & id & room\\_type\\\\\n",
       " <int> & <dbl> & <chr>\\\\\n",
       "\\hline\n",
       "\t 1 & 28390229 & Entire home/apt\\\\\n",
       "\t 1 & 26356375 & Entire home/apt\\\\\n",
       "\t 1 & 43480074 & Entire home/apt\\\\\n",
       "\t 1 & 25168981 & Private room   \\\\\n",
       "\t ⋮ & ⋮ & ⋮\\\\\n",
       "\t 10000 & 32108967 & Entire home/apt\\\\\n",
       "\t 10000 & 15096629 & Entire home/apt\\\\\n",
       "\t 10000 & 27759917 & Private room   \\\\\n",
       "\t 10000 & 45255958 & Private room   \\\\\n",
       "\\end{tabular}\n"
      ],
      "text/markdown": [
       "\n",
       "A grouped_df: 400000 × 3\n",
       "\n",
       "| replicate &lt;int&gt; | id &lt;dbl&gt; | room_type &lt;chr&gt; |\n",
       "|---|---|---|\n",
       "| 1 | 28390229 | Entire home/apt |\n",
       "| 1 | 26356375 | Entire home/apt |\n",
       "| 1 | 43480074 | Entire home/apt |\n",
       "| 1 | 25168981 | Private room    |\n",
       "| ⋮ | ⋮ | ⋮ |\n",
       "| 10000 | 32108967 | Entire home/apt |\n",
       "| 10000 | 15096629 | Entire home/apt |\n",
       "| 10000 | 27759917 | Private room    |\n",
       "| 10000 | 45255958 | Private room    |\n",
       "\n"
      ],
      "text/plain": [
       "       replicate id       room_type      \n",
       "1      1         28390229 Entire home/apt\n",
       "2      1         26356375 Entire home/apt\n",
       "3      1         43480074 Entire home/apt\n",
       "4      1         25168981 Private room   \n",
       "⋮      ⋮         ⋮        ⋮              \n",
       "399997 10000     32108967 Entire home/apt\n",
       "399998 10000     15096629 Entire home/apt\n",
       "399999 10000     27759917 Private room   \n",
       "400000 10000     45255958 Private room   "
      ]
     },
     "metadata": {},
     "output_type": "display_data"
    }
   ],
   "source": [
    "set.seed(552) # For reproducibility.\n",
    "samples_10000 <- rep_sample_n(listings, size = 40, reps = 10000)\n",
    "samples_10000"
   ]
  },
  {
   "cell_type": "markdown",
   "metadata": {
    "slideshow": {
     "slide_type": "skip"
    }
   },
   "source": [
    "This gives us 10000 random samples of size $n = 40$ from the population (`listings`). You can explore the `replicate` column and the `id` column to prove that to yourself."
   ]
  },
  {
   "cell_type": "markdown",
   "metadata": {
    "slideshow": {
     "slide_type": "slide"
    }
   },
   "source": [
    "### 4.11. What is the $\\hat{\\pi}_E$ in each of our $10,000$ samples?\n",
    "\n",
    "Firstly, we create a `group_by()` attribute for the `replicate` column our data frame `samples_10000`. \n",
    "\n",
    "Then, we can apply the `summarise()` function to each replicate to count the total number of listings that are of `room_type` `Entire home/apt` for each sample and calculate the proportion."
   ]
  },
  {
   "cell_type": "code",
   "execution_count": 10,
   "metadata": {
    "slideshow": {
     "slide_type": "slide"
    }
   },
   "outputs": [
    {
     "data": {
      "text/html": [
       "<table class=\"dataframe\">\n",
       "<caption>A tibble: 10000 × 3</caption>\n",
       "<thead>\n",
       "\t<tr><th scope=col>replicate</th><th scope=col>n_E</th><th scope=col>pi_hat_E</th></tr>\n",
       "\t<tr><th scope=col>&lt;int&gt;</th><th scope=col>&lt;int&gt;</th><th scope=col>&lt;dbl&gt;</th></tr>\n",
       "</thead>\n",
       "<tbody>\n",
       "\t<tr><td>1</td><td>32</td><td>0.80</td></tr>\n",
       "\t<tr><td>2</td><td>30</td><td>0.75</td></tr>\n",
       "\t<tr><td>3</td><td>30</td><td>0.75</td></tr>\n",
       "\t<tr><td>4</td><td>28</td><td>0.70</td></tr>\n",
       "\t<tr><td>⋮</td><td>⋮</td><td>⋮</td></tr>\n",
       "\t<tr><td> 9997</td><td>35</td><td>0.875</td></tr>\n",
       "\t<tr><td> 9998</td><td>34</td><td>0.850</td></tr>\n",
       "\t<tr><td> 9999</td><td>30</td><td>0.750</td></tr>\n",
       "\t<tr><td>10000</td><td>26</td><td>0.650</td></tr>\n",
       "</tbody>\n",
       "</table>\n"
      ],
      "text/latex": [
       "A tibble: 10000 × 3\n",
       "\\begin{tabular}{lll}\n",
       " replicate & n\\_E & pi\\_hat\\_E\\\\\n",
       " <int> & <int> & <dbl>\\\\\n",
       "\\hline\n",
       "\t 1 & 32 & 0.80\\\\\n",
       "\t 2 & 30 & 0.75\\\\\n",
       "\t 3 & 30 & 0.75\\\\\n",
       "\t 4 & 28 & 0.70\\\\\n",
       "\t ⋮ & ⋮ & ⋮\\\\\n",
       "\t  9997 & 35 & 0.875\\\\\n",
       "\t  9998 & 34 & 0.850\\\\\n",
       "\t  9999 & 30 & 0.750\\\\\n",
       "\t 10000 & 26 & 0.650\\\\\n",
       "\\end{tabular}\n"
      ],
      "text/markdown": [
       "\n",
       "A tibble: 10000 × 3\n",
       "\n",
       "| replicate &lt;int&gt; | n_E &lt;int&gt; | pi_hat_E &lt;dbl&gt; |\n",
       "|---|---|---|\n",
       "| 1 | 32 | 0.80 |\n",
       "| 2 | 30 | 0.75 |\n",
       "| 3 | 30 | 0.75 |\n",
       "| 4 | 28 | 0.70 |\n",
       "| ⋮ | ⋮ | ⋮ |\n",
       "|  9997 | 35 | 0.875 |\n",
       "|  9998 | 34 | 0.850 |\n",
       "|  9999 | 30 | 0.750 |\n",
       "| 10000 | 26 | 0.650 |\n",
       "\n"
      ],
      "text/plain": [
       "      replicate n_E pi_hat_E\n",
       "1     1         32  0.80    \n",
       "2     2         30  0.75    \n",
       "3     3         30  0.75    \n",
       "4     4         28  0.70    \n",
       "⋮     ⋮         ⋮   ⋮       \n",
       "9997   9997     35  0.875   \n",
       "9998   9998     34  0.850   \n",
       "9999   9999     30  0.750   \n",
       "10000 10000     26  0.650   "
      ]
     },
     "metadata": {},
     "output_type": "display_data"
    }
   ],
   "source": [
    "sampling_dist <- samples_10000 |>\n",
    "  group_by(replicate) |>\n",
    "  summarise(\n",
    "    n_E = sum(room_type == \"Entire home/apt\"),\n",
    "    pi_hat_E = sum(room_type == \"Entire home/apt\") / 40\n",
    "  )\n",
    "sampling_dist"
   ]
  },
  {
   "cell_type": "markdown",
   "metadata": {
    "slideshow": {
     "slide_type": "slide"
    }
   },
   "source": [
    "Let us calculate the mean $\\bar{\\hat{\\pi}}_E$ of the 10,000 sample estimates:"
   ]
  },
  {
   "cell_type": "code",
   "execution_count": 11,
   "metadata": {
    "slideshow": {
     "slide_type": "fragment"
    }
   },
   "outputs": [
    {
     "data": {
      "text/html": [
       "0.756"
      ],
      "text/latex": [
       "0.756"
      ],
      "text/markdown": [
       "0.756"
      ],
      "text/plain": [
       "[1] 0.756"
      ]
     },
     "metadata": {},
     "output_type": "display_data"
    }
   ],
   "source": [
    "mean_sampling_dist <- sampling_dist |>\n",
    "    pull(pi_hat_E)|>\n",
    "    mean() |>\n",
    "    round(3)\n",
    "mean_sampling_dist"
   ]
  },
  {
   "cell_type": "markdown",
   "metadata": {
    "slideshow": {
     "slide_type": "slide"
    }
   },
   "source": [
    "### 4.12. Plotting the Distribution of Sample Proportions"
   ]
  },
  {
   "cell_type": "markdown",
   "metadata": {
    "slideshow": {
     "slide_type": "skip"
    }
   },
   "source": [
    "Set up plot size in Jupyter:"
   ]
  },
  {
   "cell_type": "code",
   "execution_count": 12,
   "metadata": {
    "slideshow": {
     "slide_type": "skip"
    }
   },
   "outputs": [],
   "source": [
    "# Setting up plot width and height.\n",
    "options(repr.plot.width = 15, repr.plot.height = 7)"
   ]
  },
  {
   "cell_type": "markdown",
   "metadata": {
    "slideshow": {
     "slide_type": "fragment"
    }
   },
   "source": [
    "Let us plot a histogram of the sample proportions in `sampling_dist` by specifying:\n",
    "\n",
    "- `x` is the column of values to count for our histogram.\n",
    "- `geom_histogram()` specifies that we would like to use a special kind of bar chart - a histogram.\n",
    "- `binwidth = 0.025` sets how wide the interval should be for counting values in the histogram.\n",
    "- `xlab` labels the $x$-axis for the values being counted.\n",
    "- `ggtitle()` adds a title to the plot."
   ]
  },
  {
   "cell_type": "code",
   "execution_count": 13,
   "metadata": {
    "slideshow": {
     "slide_type": "slide"
    }
   },
   "outputs": [
    {
     "data": {
      "image/png": "[encoded data removed]",
      "text/plain": [
       "plot without title"
      ]
     },
     "metadata": {
      "image/png": {
       "height": 420,
       "width": 900
      }
     },
     "output_type": "display_data"
    }
   ],
   "source": [
    "sampling_dist_plot <- sampling_dist |>\n",
    "  ggplot(aes(x = pi_hat_E)) +\n",
    "  geom_histogram(binwidth = 0.025) +\n",
    "  xlab(\"Sample Proportion Based on n = 40\") +\n",
    "  ggtitle(\"Sampling Distribution of the Sample Proportions\") +\n",
    "  theme(text = element_text(size = 16.5)) +\n",
    "  geom_vline(xintercept = 0.756, color = \"red\", size = 1.5) # Mean proportion estimate as a vertical red line\n",
    "sampling_dist_plot"
   ]
  },
  {
   "cell_type": "markdown",
   "metadata": {
    "slideshow": {
     "slide_type": "slide"
    }
   },
   "source": [
    "**What do we notice here?**\n",
    "\n",
    "We see that this sampling distribution of the sample proportions:\n",
    "\n",
    "- has values ranging from ~0.425 to ~0.975.\n",
    "- is centered near 0.756.\n",
    "- is roughly symmetrical, and bell shaped (almost looking like a normal distribution).\n",
    "\n",
    "Finally, recall that the population parameter from `listings` is \n",
    "\n",
    "$$\\pi_E = 0.756.$$\n",
    "\n",
    "Which is equal to the mean $\\bar{\\hat{\\pi}}_E$ of the 10,000 sample estimates:"
   ]
  },
  {
   "cell_type": "code",
   "execution_count": 14,
   "metadata": {
    "slideshow": {
     "slide_type": "slide"
    }
   },
   "outputs": [
    {
     "data": {
      "text/html": [
       "0.756"
      ],
      "text/latex": [
       "0.756"
      ],
      "text/markdown": [
       "0.756"
      ],
      "text/plain": [
       "[1] 0.756"
      ]
     },
     "metadata": {},
     "output_type": "display_data"
    }
   ],
   "source": [
    "mean_sampling_dist"
   ]
  },
  {
   "cell_type": "markdown",
   "metadata": {
    "slideshow": {
     "slide_type": "slide"
    }
   },
   "source": [
    "There is no magic here, we can use **the so-called expected value properties**. In our population of `listings`, we have the $i$th Bernoulli-type random variable:\n",
    "\n",
    "$$\n",
    "X_i =\n",
    "\\begin{cases}\n",
    "1 \\; \\; \\; \\; \\text{if the listing is an entire home or apartment},\\\\\n",
    "0 \\; \\; \\; \\; \\mbox{otherwise}.\n",
    "\\end{cases}\n",
    "$$\n",
    "\n",
    "$$X_i \\sim \\text{Bernoulli}(\\pi_E)$$\n",
    "\n",
    "$$\\mathbb{E}(X_i) = \\pi_E$$"
   ]
  },
  {
   "cell_type": "markdown",
   "metadata": {
    "slideshow": {
     "slide_type": "slide"
    }
   },
   "source": [
    "Suppose we have a traditional **random sample** of $n$ *iid* $X_1, \\dots, X_n$. We define\n",
    "\n",
    "$$\\hat{\\pi}_E = \\frac{\\sum_{i = 1}^n X_i}{n}$$\n",
    "\n",
    "```{math}\n",
    "\\begin{align*}\n",
    "\\mathbb{E}(\\hat{\\pi}_E) &= \\mathbb{E} \\left( \\frac{\\sum_{i = 1}^n X_i}{n} \\right) \\\\\n",
    "&= \\frac{1}{n}\\sum_{i = 1}^n \\mathbb{E}(X_i) \\\\\n",
    "&= \\pi_E.\n",
    "\\end{align*}\n",
    "```\n",
    "\n",
    "**Theoretically**, the expected value of a **single $\\hat{\\pi}_E$** is equal to the population parameter $\\pi_E$."
   ]
  },
  {
   "cell_type": "markdown",
   "metadata": {
    "slideshow": {
     "slide_type": "slide"
    }
   },
   "source": [
    "Now, suppose you draw $m$ random samples from the population listings ($m = 10000$ in our simulation). Hence, the mean $\\bar{\\hat{\\pi}}_E$ of the $m$ sample estimates is\n",
    "\n",
    "$$\\bar{\\hat{\\pi}}_E = \\frac{\\sum_{j = 1}^m \\hat{\\pi}_{E_j}}{m}$$\n",
    "\n",
    "```{math}\n",
    "\\begin{align*}\n",
    "\\mathbb{E}(\\bar{\\hat{\\pi}}_E) &= \\mathbb{E} \\left( \\frac{\\sum_{j = 1}^m \\hat{\\pi}_{E_j}}{m} \\right) \\\\\n",
    "&= \\frac{1}{m} \\sum_{j = 1}^m \\mathbb{E} \\left( \\hat{\\pi}_{E_j} \\right) \\\\\n",
    "&= \\pi_E.\n",
    "\\end{align*}\n",
    "```\n",
    "\n",
    "Again, **theoretically**, the expected value of the mean $\\bar{\\hat{\\pi}}_E$ of the $m$ sample estimates is also equal to the population parameter $\\pi_E$."
   ]
  },
  {
   "cell_type": "markdown",
   "metadata": {
    "slideshow": {
     "slide_type": "slide"
    }
   },
   "source": [
    "## 5. Wrapping up! \n",
    "\n",
    "What did we learn today?\n",
    "\n",
    "- What are the different kinds of statistical questions we can ask?\n",
    "- What is estimation, and why is it useful?\n",
    "- How sampling can be useful for estimating?"
   ]
  },
  {
   "cell_type": "markdown",
   "metadata": {
    "slideshow": {
     "slide_type": "slide"
    }
   },
   "source": [
    "## 6. Further Questions\n",
    "\n",
    "Usually we only have one sample. So, what can we do? "
   ]
  },
  {
   "cell_type": "markdown",
   "metadata": {
    "slideshow": {
     "slide_type": "notes"
    }
   },
   "source": [
    "## 7. Acknowledgements\n",
    "\n",
    "- [Modern Dive: An Introduction to Statistical and Data Sciences via R](https://moderndive.com/index.html) by Chester Ismay and Albert Y. Kim\n",
    "- [Data Science in a box](https://github.com/rstudio-education/datascience-box) by Mine Cetinkaya-Rundel\n",
    "- [Inference in 3 hours](https://github.com/AllenDowney/CompStats) by Allan Downey"
   ]
  }
 ],
 "metadata": {
  "celltoolbar": "Slideshow",
  "kernelspec": {
   "display_name": "R",
   "language": "R",
   "name": "ir"
  },
  "language_info": {
   "codemirror_mode": "r",
   "file_extension": ".r",
   "mimetype": "text/x-r-source",
   "name": "R",
   "pygments_lexer": "r",
   "version": "4.4.0"
  }
 },
 "nbformat": 4,
 "nbformat_minor": 4
}
